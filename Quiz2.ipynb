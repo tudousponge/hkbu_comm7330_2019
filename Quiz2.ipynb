{
 "cells": [
  {
   "cell_type": "markdown",
   "metadata": {},
   "source": [
    "### Elevator Converter"
   ]
  },
  {
   "cell_type": "code",
   "execution_count": 1,
   "metadata": {},
   "outputs": [],
   "source": [
    "# This is a converter which can translate the level number in HK to the level number in Mainland China\n",
    "#by 王鸣昊（student ID:19454414）\n",
    "\n",
    "def liftConverter(HKLevel):\n",
    "    HKLevel = str.upper(HKLevel) #to convert HKLevel to uppercase, which avoids to judge 'g' or 'G'\n",
    "    loopControl = False #loopControl is a variable to control whether to input again\n",
    "\n",
    "    if HKLevel == 'G':\n",
    "        MCLevel = 1\n",
    "        print('HK floor number:', HKLevel)\n",
    "        print('Mainland China floor number:', MCLevel)\n",
    "        loopControl = True\n",
    "\n",
    "    else:\n",
    "        try:\n",
    "            HKLevel = int(HKLevel)\n",
    "        except:\n",
    "            print('Your input is not availble.')            \n",
    "        else:\n",
    "            MCLevel = HKLevel + 1\n",
    "            print('HK Floor number:', HKLevel)\n",
    "            print('Mainland China floor number:', MCLevel) \n",
    "            loopControl = True\n",
    "\n",
    "    return loopControl"
   ]
  },
  {
   "cell_type": "code",
   "execution_count": 2,
   "metadata": {},
   "outputs": [
    {
     "name": "stdout",
     "output_type": "stream",
     "text": [
      "Input HK floor number:f\n",
      "Your input is not availble.\n",
      "Input HK floor number again:法\n",
      "Your input is not availble.\n",
      "Input HK floor number again:fa\n",
      "Your input is not availble.\n",
      "Input HK floor number again:3\n",
      "HK Floor number: 3\n",
      "Mainland China floor number: 4\n"
     ]
    }
   ],
   "source": [
    "HKFloor = input('Input HK floor number:')\n",
    "while liftConverter(HKFloor) == False: #if the return value is False, then input again.\n",
    "    HKFloor = input('Input HK floor number again:')"
   ]
  }
 ],
 "metadata": {
  "kernelspec": {
   "display_name": "Python 3",
   "language": "python",
   "name": "python3"
  },
  "language_info": {
   "codemirror_mode": {
    "name": "ipython",
    "version": 3
   },
   "file_extension": ".py",
   "mimetype": "text/x-python",
   "name": "python",
   "nbconvert_exporter": "python",
   "pygments_lexer": "ipython3",
   "version": "3.7.3"
  }
 },
 "nbformat": 4,
 "nbformat_minor": 2
}
